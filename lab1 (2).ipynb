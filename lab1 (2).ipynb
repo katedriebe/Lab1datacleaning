{
 "cells": [
  {
   "cell_type": "code",
   "execution_count": null,
   "metadata": {},
   "outputs": [],
   "source": [
    "#Varibles explored: \n",
    "# librac: If some people in your community suggested that a book this person wrote which said Blacks are inferior should be taken out of your public library, would you favor removing this book, or not?\n",
    "# libracy: (Gender netural version)(Or consider a person who believes that Blacks are genetically inferior…) If some people in your community suggested that a book this person wrote which said Blacks are inferior should be taken out of your public library, would you favor removing this book, or not?\n",
    "# libmslm: (Now consider a Islamic religious leader who preaches hatred of the United States…) If some people in your community suggested that a book this person wrote which preaches hatred of the United States should be taken out of your public library, would you favor removing this book, or not?\n",
    "# libmsly: (Gender netural version) (Now consider a Islamic religious leader who preaches hatred of the United States…) If some people in your community suggested that a book this person wrote which preaches hatred of \n",
    "# libath: (There are always some people whose ideas are considered bad or dangerous by other people. For instance, somebody who is against all churches and religion…) If some people in your community suggested that a book this person wrote against churches and religion should be taken out of your public library, would you favor removing this book, or not?\n",
    "# libathy: (Gender nutural version) (There are always some people whose ideas are considered bad or dangerous by other people. For instance, somebody who is against all churches and religion…) If some people in your community suggested that a book this person wrote against churches and religion should be taken out of your public library, would you favor removing this book, or not?\n",
    "# partyid: Generally speaking, do you usually think of yourself as a Republican, Democrat, Independent, or what?\n"
   ]
  },
  {
   "cell_type": "code",
   "execution_count": 75,
   "metadata": {},
   "outputs": [],
   "source": [
    "#Libraries \n",
    "import pandas as pd\n",
    "import numpy as np\n",
    "import matplotlib.pyplot as plt\n",
    "import seaborn as sns"
   ]
  },
  {
   "cell_type": "code",
   "execution_count": 76,
   "metadata": {},
   "outputs": [
    {
     "name": "stdout",
     "output_type": "stream",
     "text": [
      "https://github.com/DS3001/gss_zip/raw/main/gss_1.csv\n",
      "https://github.com/DS3001/gss_zip/raw/main/gss_2.csv\n",
      "https://github.com/DS3001/gss_zip/raw/main/gss_3.csv\n",
      "https://github.com/DS3001/gss_zip/raw/main/gss_4.csv\n",
      "https://github.com/DS3001/gss_zip/raw/main/gss_5.csv\n",
      "https://github.com/DS3001/gss_zip/raw/main/gss_6.csv\n",
      "https://github.com/DS3001/gss_zip/raw/main/gss_7.csv\n",
      "https://github.com/DS3001/gss_zip/raw/main/gss_8.csv\n",
      "https://github.com/DS3001/gss_zip/raw/main/gss_9.csv\n",
      "https://github.com/DS3001/gss_zip/raw/main/gss_10.csv\n",
      "https://github.com/DS3001/gss_zip/raw/main/gss_11.csv\n",
      "https://github.com/DS3001/gss_zip/raw/main/gss_12.csv\n",
      "https://github.com/DS3001/gss_zip/raw/main/gss_13.csv\n",
      "https://github.com/DS3001/gss_zip/raw/main/gss_14.csv\n",
      "https://github.com/DS3001/gss_zip/raw/main/gss_15.csv\n",
      "https://github.com/DS3001/gss_zip/raw/main/gss_16.csv\n",
      "https://github.com/DS3001/gss_zip/raw/main/gss_17.csv\n",
      "https://github.com/DS3001/gss_zip/raw/main/gss_18.csv\n",
      "https://github.com/DS3001/gss_zip/raw/main/gss_19.csv\n",
      "https://github.com/DS3001/gss_zip/raw/main/gss_20.csv\n",
      "https://github.com/DS3001/gss_zip/raw/main/gss_21.csv\n",
      "https://github.com/DS3001/gss_zip/raw/main/gss_22.csv\n",
      "https://github.com/DS3001/gss_zip/raw/main/gss_23.csv\n",
      "https://github.com/DS3001/gss_zip/raw/main/gss_24.csv\n",
      "https://github.com/DS3001/gss_zip/raw/main/gss_25.csv\n",
      "https://github.com/DS3001/gss_zip/raw/main/gss_26.csv\n",
      "https://github.com/DS3001/gss_zip/raw/main/gss_27.csv\n",
      "https://github.com/DS3001/gss_zip/raw/main/gss_28.csv\n",
      "https://github.com/DS3001/gss_zip/raw/main/gss_29.csv\n",
      "https://github.com/DS3001/gss_zip/raw/main/gss_30.csv\n",
      "https://github.com/DS3001/gss_zip/raw/main/gss_31.csv\n",
      "https://github.com/DS3001/gss_zip/raw/main/gss_32.csv\n",
      "https://github.com/DS3001/gss_zip/raw/main/gss_33.csv\n",
      "https://github.com/DS3001/gss_zip/raw/main/gss_34.csv\n",
      "https://github.com/DS3001/gss_zip/raw/main/gss_35.csv\n",
      "https://github.com/DS3001/gss_zip/raw/main/gss_36.csv\n",
      "https://github.com/DS3001/gss_zip/raw/main/gss_37.csv\n"
     ]
    }
   ],
   "source": [
    "#import data \n",
    "import pandas as pd\n",
    "\n",
    "var_list = ['libracy', 'librac', 'libmslmy', 'libmslm', 'libathy', 'libath', 'partyid', 'year']\n",
    "output_file = 'gss_data_url.csv'\n",
    "modes = ['w', 'a']\n",
    "phase = 0\n",
    "\n",
    "for k in range(37):\n",
    "    url = 'https://github.com/DS3001/gss_zip/raw/main/gss_' + str(1 + k) + '.csv'\n",
    "    print(url)\n",
    "    df = pd.read_csv(url, low_memory=False)\n",
    "\n",
    "    if phase == 0:\n",
    "        \n",
    "        df[var_list].to_csv(output_file, mode=modes[phase], header=True, index=False)\n",
    "    else:\n",
    "        \n",
    "        df[var_list].to_csv(output_file, mode=modes[phase], header=False, index=False)\n",
    "\n",
    "    phase = 1\n",
    "    k += 1\n"
   ]
  },
  {
   "cell_type": "code",
   "execution_count": 77,
   "metadata": {},
   "outputs": [
    {
     "data": {
      "text/plain": [
       "72390"
      ]
     },
     "execution_count": 77,
     "metadata": {},
     "output_type": "execute_result"
    }
   ],
   "source": [
    "df = pd.read_csv(output_file)\n",
    "df.shape[0]"
   ]
  },
  {
   "cell_type": "code",
   "execution_count": 78,
   "metadata": {},
   "outputs": [
    {
     "name": "stdout",
     "output_type": "stream",
     "text": [
      "[nan 'remove' 'not remove']\n",
      "[nan 'not remove' 'remove']\n",
      "['not remove' 'remove' nan]\n",
      "['independent, close to democrat' 'not very strong democrat'\n",
      " 'independent (neither, no response)' 'strong democrat'\n",
      " 'not very strong republican' 'independent, close to republican'\n",
      " 'strong republican' 'other party' nan]\n",
      "[1972 1973 1974 1975 1976 1977 1978 1980 1982 1983 1984 1985 1986 1987\n",
      " 1988 1989 1990 1991 1993 1994 1996 1998 2000 2002 2004 2006 2008 2010\n",
      " 2012 2014 2016 2018 2021 2022]\n"
     ]
    }
   ],
   "source": [
    "print(df['librac'].unique())\n",
    "print(df['libmslm'].unique())\n",
    "print(df['libath'].unique())\n",
    "print(df['partyid'].unique())\n",
    "print(df['year'].unique())"
   ]
  },
  {
   "cell_type": "code",
   "execution_count": 79,
   "metadata": {},
   "outputs": [],
   "source": [
    "# The code book states that for 'librac','libmslm', 'libath' there should be both a label 'remove' and 'not reme'\n",
    "# As well as 'reserved codes' like 'don't know', 'not applicable', 'skipped on web' it seems that the reserved data is not in the dataset"
   ]
  },
  {
   "cell_type": "code",
   "execution_count": 80,
   "metadata": {},
   "outputs": [
    {
     "name": "stdout",
     "output_type": "stream",
     "text": [
      "librac      34340\n",
      "libracy     69898\n",
      "libmslm     60970\n",
      "libmslmy    69895\n",
      "libath      29700\n",
      "libathy     69888\n",
      "partyid       485\n",
      "year            0\n",
      "dtype: int64\n"
     ]
    }
   ],
   "source": [
    "na_counts = df[['librac','libracy','libmslm','libmslmy', 'libath', 'libathy', 'partyid', 'year']].isna().sum()\n",
    "print(na_counts)"
   ]
  },
  {
   "cell_type": "code",
   "execution_count": 81,
   "metadata": {},
   "outputs": [
    {
     "name": "stdout",
     "output_type": "stream",
     "text": [
      "libracy     not remove  remove\n",
      "librac                        \n",
      "not remove        1473       0\n",
      "remove               0    1019\n",
      "libmslmy    not remove  remove\n",
      "libmslm                       \n",
      "not remove        1349       0\n",
      "remove               0    1146\n",
      "libathy     not remove  remove\n",
      "libath                        \n",
      "not remove        2095       0\n",
      "remove               0     407\n"
     ]
    }
   ],
   "source": [
    "#I wanted to compare the responses to the gender-neutral question with the original question by using cross-tabulation to see if changing the wording of the question to remove gender-specific language had an impact on individual responses. The cross-tabulation results revealed that there is a distinct separation between respondents who chose 'not remove' and 'remove' responses for both variables. This indicates that individuals who selected 'not remove' for one variable tended to do the same for the other variable, and the same trend held for 'remove' responses.\n",
    "\n",
    "cross_tab_librac = pd.crosstab(df_filtered_librac['librac'], df_filtered_librac['libracy'])\n",
    "print(cross_tab_librac)\n",
    "\n",
    "\n",
    "cross_tab_libmslm = pd.crosstab(df_filtered_libmslm['libmslm'], df_filtered_libmslm['libmslmy'])\n",
    "print(cross_tab_libmslm)\n",
    "\n",
    "\n",
    "cross_tab_libath = pd.crosstab(df_filtered_libath['libath'], df_filtered_libath['libathy'])\n",
    "print(cross_tab_libath)\n"
   ]
  },
  {
   "cell_type": "code",
   "execution_count": 82,
   "metadata": {},
   "outputs": [],
   "source": [
    "#I'm going to combine the orginial variable with the Gender Neutral Wording version to diminish the lack of data point\n",
    " "
   ]
  },
  {
   "cell_type": "code",
   "execution_count": 83,
   "metadata": {},
   "outputs": [],
   "source": [
    "df['librac'] = df['librac'].mask(df['librac'].isna(), df['libracy'])\n",
    "df['libmslm'] = df['libmslm'].mask(df['libmslm'].isna(), df['libmslmy'])\n",
    "df['libath'] = df['libath'].mask(df['libath'].isna(), df['libathy'])\n",
    "\n",
    "df.to_csv('raw_gss_data_url.csv', index=False)\n"
   ]
  },
  {
   "cell_type": "code",
   "execution_count": 84,
   "metadata": {},
   "outputs": [
    {
     "name": "stdout",
     "output_type": "stream",
     "text": [
      "librac     31848\n",
      "libmslm    58475\n",
      "libath     27198\n",
      "partyid      485\n",
      "year           0\n",
      "dtype: int64\n"
     ]
    }
   ],
   "source": [
    "na_counts = df[['librac','libmslm', 'libath', 'partyid', 'year']].isna().sum()\n",
    "print(na_counts)\n",
    "df.shape[0]"
   ]
  },
  {
   "cell_type": "code",
   "execution_count": 85,
   "metadata": {},
   "outputs": [],
   "source": [
    "#I'm going to drop all rows were 'librac','libmslm', 'libath' have missing data  "
   ]
  },
  {
   "cell_type": "code",
   "execution_count": 86,
   "metadata": {},
   "outputs": [],
   "source": [
    "df = df.dropna(subset=['librac', 'libmslm', 'libath'], how='all') #the how= 'all' I looked up and W3Schools explained it"
   ]
  },
  {
   "cell_type": "code",
   "execution_count": 87,
   "metadata": {},
   "outputs": [
    {
     "name": "stdout",
     "output_type": "stream",
     "text": [
      "librac      5264\n",
      "libmslm    31891\n",
      "libath       614\n",
      "partyid      310\n",
      "year           0\n",
      "dtype: int64\n"
     ]
    },
    {
     "data": {
      "text/plain": [
       "45806"
      ]
     },
     "execution_count": 87,
     "metadata": {},
     "output_type": "execute_result"
    }
   ],
   "source": [
    "na_counts = df[['librac','libmslm', 'libath', 'partyid', 'year']].isna().sum()\n",
    "print(na_counts)\n",
    "df.shape[0]"
   ]
  },
  {
   "cell_type": "code",
   "execution_count": 88,
   "metadata": {},
   "outputs": [],
   "source": [
    "#To get ride of the last two missing data points I'm going to drop from 'libath' and 'partyid'"
   ]
  },
  {
   "cell_type": "code",
   "execution_count": 89,
   "metadata": {},
   "outputs": [],
   "source": [
    "df = df.dropna(subset=['libath', 'partyid'])"
   ]
  },
  {
   "cell_type": "code",
   "execution_count": 90,
   "metadata": {},
   "outputs": [
    {
     "name": "stdout",
     "output_type": "stream",
     "text": [
      "librac      5158\n",
      "libmslm    31289\n",
      "libath         0\n",
      "partyid        0\n",
      "year           0\n",
      "dtype: int64\n"
     ]
    },
    {
     "data": {
      "text/plain": [
       "44890"
      ]
     },
     "execution_count": 90,
     "metadata": {},
     "output_type": "execute_result"
    }
   ],
   "source": [
    "na_counts = df[['librac','libmslm', 'libath', 'partyid', 'year']].isna().sum()\n",
    "print(na_counts)\n",
    "df.shape[0]"
   ]
  },
  {
   "cell_type": "code",
   "execution_count": 91,
   "metadata": {},
   "outputs": [],
   "source": [
    "df = df.dropna(subset=['librac'])"
   ]
  },
  {
   "cell_type": "code",
   "execution_count": 92,
   "metadata": {},
   "outputs": [
    {
     "name": "stdout",
     "output_type": "stream",
     "text": [
      "librac         0\n",
      "libmslm    26293\n",
      "libath         0\n",
      "partyid        0\n",
      "year           0\n",
      "dtype: int64\n"
     ]
    },
    {
     "data": {
      "text/plain": [
       "39732"
      ]
     },
     "execution_count": 92,
     "metadata": {},
     "output_type": "execute_result"
    }
   ],
   "source": [
    "na_counts = df[['librac','libmslm', 'libath', 'partyid', 'year']].isna().sum()\n",
    "print(na_counts)\n",
    "df.shape[0]"
   ]
  },
  {
   "cell_type": "code",
   "execution_count": 93,
   "metadata": {},
   "outputs": [],
   "source": [
    "#libmslm: recorded since 2008,librac: recorded since 1976, libath: recorded since 1972, partyid: recorded since 1972 \n",
    "#because libmslm began being recorded so much later then the other questions I'm going to make two different tables, one that excludes libmslm and one that includes libmslm \n",
    "\n",
    "church_race = df[['librac', 'libath', 'partyid','year']]\n",
    "church_race.to_csv('church_race.csv', index=False)\n",
    "\n",
    "\n"
   ]
  },
  {
   "cell_type": "code",
   "execution_count": 94,
   "metadata": {},
   "outputs": [],
   "source": [
    "df = df.dropna(subset=['libmslm'])\n",
    "church_race_religion = df[['librac', 'libmslm', 'libath', 'partyid', 'year']]\n",
    "church_race_religion.to_csv('church_race_religion.csv', index=False)\n"
   ]
  },
  {
   "cell_type": "code",
   "execution_count": 96,
   "metadata": {},
   "outputs": [
    {
     "name": "stdout",
     "output_type": "stream",
     "text": [
      "librac     0\n",
      "libmslm    0\n",
      "libath     0\n",
      "partyid    0\n",
      "year       0\n",
      "dtype: int64\n"
     ]
    },
    {
     "data": {
      "text/plain": [
       "13439"
      ]
     },
     "execution_count": 96,
     "metadata": {},
     "output_type": "execute_result"
    }
   ],
   "source": [
    "na_counts = church_race_religion[['librac','libmslm', 'libath', 'partyid', 'year']].isna().sum()\n",
    "print(na_counts)\n",
    "df.shape[0]"
   ]
  },
  {
   "cell_type": "code",
   "execution_count": 23,
   "metadata": {},
   "outputs": [
    {
     "data": {
      "image/png": "[encoded data removed]",
      "text/plain": [
       "<Figure size 720x504 with 1 Axes>"
      ]
     },
     "metadata": {
      "needs_background": "light"
     },
     "output_type": "display_data"
    },
    {
     "data": {
      "image/png": "[encoded data removed]",
      "text/plain": [
       "<Figure size 720x504 with 1 Axes>"
      ]
     },
     "metadata": {
      "needs_background": "light"
     },
     "output_type": "display_data"
    },
    {
     "data": {
      "image/png": "[encoded data removed]",
      "text/plain": [
       "<Figure size 720x504 with 1 Axes>"
      ]
     },
     "metadata": {
      "needs_background": "light"
     },
     "output_type": "display_data"
    }
   ],
   "source": [
    "\n",
    "\n",
    "columns_to_plot = ['librac', 'libmslm', 'libath']\n",
    "\n",
    "for col in columns_to_plot:\n",
    "    \n",
    "    cross = pd.crosstab(church_race_religion[col], church_race_religion['partyid'])\n",
    "\n",
    "  \n",
    "    cross.plot(kind='bar', stacked=False, figsize=(10, 7))\n",
    "    \n",
    "    plt.title(f'Histogram of {col} grouped by partyid')\n",
    "    plt.ylabel('Count')\n",
    "    plt.xlabel(col)\n",
    "    plt.legend(title='PartyID')\n",
    "    plt.show()\n"
   ]
  },
  {
   "cell_type": "code",
   "execution_count": 24,
   "metadata": {},
   "outputs": [
    {
     "name": "stdout",
     "output_type": "stream",
     "text": [
      "Crosstab of librac with original partyid:\n",
      "partyid     independent (neither, no response)  \\\n",
      "librac                                           \n",
      "not remove                                1533   \n",
      "remove                                     979   \n",
      "Total                                     2512   \n",
      "\n",
      "partyid     independent, close to democrat  independent, close to republican  \\\n",
      "librac                                                                         \n",
      "not remove                            1080                               862   \n",
      "remove                                 610                               364   \n",
      "Total                                 1690                              1226   \n",
      "\n",
      "partyid     not very strong democrat  not very strong republican  other party  \\\n",
      "librac                                                                          \n",
      "not remove                      1227                        1034          280   \n",
      "remove                           835                         548          103   \n",
      "Total                           2062                        1582          383   \n",
      "\n",
      "partyid     strong democrat  strong republican  Total  \n",
      "librac                                                 \n",
      "not remove             1499                986   8501  \n",
      "remove                  979                520   4938  \n",
      "Total                  2478               1506  13439  \n",
      "--------------------------------------------------\n",
      "Crosstab of libmslm with original partyid:\n",
      "partyid     independent (neither, no response)  \\\n",
      "libmslm                                          \n",
      "not remove                                1171   \n",
      "remove                                    1341   \n",
      "Total                                     2512   \n",
      "\n",
      "partyid     independent, close to democrat  independent, close to republican  \\\n",
      "libmslm                                                                        \n",
      "not remove                            1011                               699   \n",
      "remove                                 679                               527   \n",
      "Total                                 1690                              1226   \n",
      "\n",
      "partyid     not very strong democrat  not very strong republican  other party  \\\n",
      "libmslm                                                                         \n",
      "not remove                      1042                         803          274   \n",
      "remove                          1020                         779          109   \n",
      "Total                           2062                        1582          383   \n",
      "\n",
      "partyid     strong democrat  strong republican  Total  \n",
      "libmslm                                                \n",
      "not remove             1326                686   7012  \n",
      "remove                 1152                820   6427  \n",
      "Total                  2478               1506  13439  \n",
      "--------------------------------------------------\n",
      "Crosstab of libath with original partyid:\n",
      "partyid     independent (neither, no response)  \\\n",
      "libath                                           \n",
      "not remove                                1899   \n",
      "remove                                     613   \n",
      "Total                                     2512   \n",
      "\n",
      "partyid     independent, close to democrat  independent, close to republican  \\\n",
      "libath                                                                         \n",
      "not remove                            1466                               996   \n",
      "remove                                 224                               230   \n",
      "Total                                 1690                              1226   \n",
      "\n",
      "partyid     not very strong democrat  not very strong republican  other party  \\\n",
      "libath                                                                          \n",
      "not remove                      1641                        1236          336   \n",
      "remove                           421                         346           47   \n",
      "Total                           2062                        1582          383   \n",
      "\n",
      "partyid     strong democrat  strong republican  Total  \n",
      "libath                                                 \n",
      "not remove             1958               1099  10631  \n",
      "remove                  520                407   2808  \n",
      "Total                  2478               1506  13439  \n",
      "--------------------------------------------------\n"
     ]
    }
   ],
   "source": [
    "columns_to_crosstab = ['librac', 'libmslm', 'libath']\n",
    "df = church_race_religion\n",
    "for col in columns_to_crosstab:\n",
    "    # Crosstab with original party groupings\n",
    "    cross_original = pd.crosstab(df[col], df['partyid'], margins=True, margins_name=\"Total\")\n",
    "    print(f'Crosstab of {col} with original partyid:')\n",
    "    print(cross_original)\n",
    "    print('-'*50)"
   ]
  },
  {
   "cell_type": "code",
   "execution_count": 25,
   "metadata": {},
   "outputs": [],
   "source": [
    "# I'm going to group partyid we can change the grouping if there is way you would think would be better\n",
    "\n",
    "party_grouping = {\n",
    "    'independent, close to democrat': 'independent/other party',\n",
    "    'independent (neither, no response)': 'independent/other party',\n",
    "    'independent, close to republican': 'independent/other party',\n",
    "    'other party': 'independent/other party',\n",
    "    'strong republican': 'republican',\n",
    "    'not very strong republican': 'republican',\n",
    "    'strong democrat': 'democrat',\n",
    "    'not very strong democrat': 'democrat'\n",
    "}\n",
    "\n",
    "org_party_church_race_religion = church_race_religion.copy()\n",
    "org_party_church_race_religion['party_grouped'] = org_party_church_race_religion['partyid'].replace(party_grouping)\n",
    "org_party_church_race_religion.to_csv('org_party_church_race_religion.csv', index=False)"
   ]
  },
  {
   "cell_type": "code",
   "execution_count": 131,
   "metadata": {},
   "outputs": [
    {
     "name": "stdout",
     "output_type": "stream",
     "text": [
      "     year question    response            party_grouped  count  proportion\n",
      "0    2008   libath  not remove                 democrat    325   25.530244\n",
      "1    2008   libath  not remove  independent/other party    380   29.850746\n",
      "2    2008   libath  not remove               republican    231   18.146112\n",
      "3    2008   libath      remove                 democrat    116    9.112333\n",
      "4    2008   libath      remove  independent/other party    120    9.426551\n",
      "..    ...      ...         ...                      ...    ...         ...\n",
      "139  2022   librac  not remove  independent/other party    609   27.594019\n",
      "140  2022   librac  not remove               republican    300   13.593113\n",
      "141  2022   librac      remove                 democrat    279   12.641595\n",
      "142  2022   librac      remove  independent/other party    430   19.483462\n",
      "143  2022   librac      remove               republican    185    8.382420\n",
      "\n",
      "[144 rows x 6 columns]\n"
     ]
    }
   ],
   "source": [
    "#I'm going to calculate the percentage of \"remove\" responses vs. \"not remove\" responses for each year for each varible I'm going to do this by melting the data this was in the reading for the first homework and in the vizualization week \n",
    "\n",
    "melted_org_party_church_race_religion = org_party_church_race_religion.melt(id_vars=['year', 'party_grouped'], value_vars=['librac', 'libmslm', 'libath'], \n",
    "                    var_name='question', value_name='response')\n",
    "\n",
    "response_counts = melted_org_party_church_race_religion.groupby(['year', 'question', 'response', 'party_grouped']).size().reset_index(name='count')\n",
    "total_counts = response_counts.groupby(['year', 'question'])['count'].transform('sum')\n",
    "response_counts['proportion'] = (response_counts['count'] / total_counts) * 100\n",
    "print (response_counts)"
   ]
  },
  {
   "cell_type": "code",
   "execution_count": null,
   "metadata": {},
   "outputs": [],
   "source": []
  },
  {
   "cell_type": "code",
   "execution_count": null,
   "metadata": {},
   "outputs": [],
   "source": []
  }
 ],
 "metadata": {
  "kernelspec": {
   "display_name": "Python 3",
   "language": "python",
   "name": "python3"
  },
  "language_info": {
   "codemirror_mode": {
    "name": "ipython",
    "version": 3
   },
   "file_extension": ".py",
   "mimetype": "text/x-python",
   "name": "python",
   "nbconvert_exporter": "python",
   "pygments_lexer": "ipython3",
   "version": "3.8.8"
  }
 },
 "nbformat": 4,
 "nbformat_minor": 4
}
